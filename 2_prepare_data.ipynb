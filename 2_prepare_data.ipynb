{
 "cells": [
  {
   "cell_type": "markdown",
   "metadata": {},
   "source": [
    "# Process the raw data from pyapm and bpnsdata\n",
    "This notebook is the code to process the output given after processing the data with pypam and bpnsdata\n",
    "For more information about this process please contact clea.parcerisas@vliz.be or check the documentation of both packages\n",
    "https://lifewatch-pypam.readthedocs.io/en/latest/\n",
    "https://github.com/lifewatch/bpnsdata"
   ]
  },
  {
   "cell_type": "code",
   "execution_count": 4,
   "metadata": {
    "jupyter": {
     "outputs_hidden": false
    }
   },
   "outputs": [],
   "source": [
    "import pathlib\n",
    "\n",
    "import geopandas\n",
    "import numpy as np\n",
    "import pandas as pd\n",
    "import xarray\n",
    "from tqdm import tqdm"
   ]
  },
  {
   "cell_type": "code",
   "execution_count": 5,
   "metadata": {
    "jupyter": {
     "outputs_hidden": false
    }
   },
   "outputs": [],
   "source": [
    "# Don't forget to add the ones you added before\n",
    "ENV_LABELS = [\n",
    "    'route_density',\n",
    "    'season',\n",
    "    'moon_phase',\n",
    "    'day_moment',\n",
    "    'sediment_type',\n",
    "    'bathymetry',\n",
    "    'other_var',\n",
    "    'new_var'\n",
    "]\n",
    "\n",
    "CHUNK_LENGTH = 60.0 # This has to be the SAME one you chose in 0_create_dataset (binsize)\n",
    "\n",
    "# Set the min and max frequencies to use (has to be a range smaller or equal to the one you selected in 0_create_dataset)\n",
    "MAX_FREQ = 24000\n",
    "MIN_FREQ = 60"
   ]
  },
  {
   "cell_type": "code",
   "execution_count": 6,
   "metadata": {
    "jupyter": {
     "outputs_hidden": false
    }
   },
   "outputs": [],
   "source": [
    "# Write down which of the variables are CATEGORIES and not NUMERICAL\n",
    "CATEGORICAL_VARS = ['day_moment', 'sediment_type', 'seabed_habitat', 'deployment_name']\n",
    "CYCLIC_VARS = ['season', 'moon_phase']\n",
    "\n",
    "vars_dtypes = {\n",
    "    'route_density': int,\n",
    "    'season': int,\n",
    "    'moon_phase': np.float16,\n",
    "    'day_moment': 'category',\n",
    "    'sediment_type': 'category',\n",
    "    'bathymetry': np.float16,\n",
    "    'other_var': str,\n",
    "    'new_var': str,\n",
    "    'deployment_name': 'category'\n",
    "}\n"
   ]
  },
  {
   "cell_type": "code",
   "execution_count": 7,
   "metadata": {
    "jupyter": {
     "outputs_hidden": false
    }
   },
   "outputs": [],
   "source": [
    "# Define the folders\n",
    "data_path = pathlib.Path('./data/raw_data/')\n",
    "processed_data_path = pathlib.Path('./data/processed/')\n",
    "raw_data_path = pathlib.Path('./data/raw_data/deployments/deployments')"
   ]
  },
  {
   "cell_type": "code",
   "execution_count": 8,
   "metadata": {
    "jupyter": {
     "outputs_hidden": false
    }
   },
   "outputs": [],
   "source": [
    "# Read the metadata csv\n",
    "metadata = pd.read_csv(data_path.joinpath('data_summary_mda.csv'))\n",
    "\n",
    "# Create the empty output vars\n",
    "df_features = pd.DataFrame()\n",
    "df_sample = pd.DataFrame()\n",
    "df_env = pd.DataFrame()\n",
    "df_geo = geopandas.GeoDataFrame()\n",
    "df_labels = pd.DataFrame()\n",
    "\n",
    "# Define the names of the vars that will be used\n",
    "# HERE IMPORTANT TO DECIDE IF YOU PROCESS 'oct3' or 'millidecade_bands'\n",
    "features_var = 'oct3'\n",
    "deployment_columns = ['deployment_name', 'datetime']\n",
    "freqticks = None"
   ]
  },
  {
   "cell_type": "code",
   "execution_count": 11,
   "metadata": {
    "jupyter": {
     "outputs_hidden": false
    }
   },
   "outputs": [
    {
     "name": "stderr",
     "output_type": "stream",
     "text": [
      "100%|██████████| 4/4 [00:00<00:00, 27.69it/s]"
     ]
    },
    {
     "name": "stdout",
     "output_type": "stream",
     "text": [
      "Total amount of time recorded 896.3058333333333 h\n"
     ]
    },
    {
     "name": "stderr",
     "output_type": "stream",
     "text": [
      "\n"
     ]
    }
   ],
   "source": [
    "# Join all the deployments in one DataFrame\n",
    "df = pd.DataFrame()\n",
    "total_acoustic_time = 0\n",
    "for idx in tqdm(metadata.index, total=len(metadata)):\n",
    "    deployment_row = metadata.loc[idx]\n",
    "    env_name = '%s_%s_env.nc' % (idx, deployment_row.deployment_name)\n",
    "    env_path = processed_data_path.joinpath(env_name)\n",
    "    deployment_file_name = '%s_%s.nc' % (idx, deployment_row.deployment_name)\n",
    "    name = deployment_row['deployment_name']\n",
    "    deployment = xarray.open_dataset(env_path)\n",
    "\n",
    "    # Get the geometry\n",
    "    geo_series = geopandas.GeoSeries(data=geopandas.points_from_xy(x=deployment['longitude'],\n",
    "                                                                   y=deployment['latitude']),\n",
    "                                     crs='EPSG:4326')\n",
    "\n",
    "    # Eliminate the frequencies below MIN_FREQ and above MAX_FREQ\n",
    "    deployment = deployment.sel(frequency=deployment.frequency[deployment.frequency < MAX_FREQ])\n",
    "    deployment = deployment.sel(frequency=deployment.frequency[deployment.frequency > MIN_FREQ])\n",
    "    deployment_duration = deployment.datetime.max() - deployment.datetime.min()\n",
    "    total_acoustic_time += deployment_duration\n",
    "    deployment = deployment[ENV_LABELS + [features_var] + deployment_columns].dropna('id', 'any')\n",
    "    clean_freqticks = deployment.frequency.values\n",
    "\n",
    "    # Create a pandas df with all the wanted values\n",
    "    values_arr = deployment[features_var].values\n",
    "    df_deployment = pd.DataFrame(values_arr)\n",
    "    df_deployment = df_deployment.astype(np.float16)\n",
    "    for env in ENV_LABELS + deployment_columns:\n",
    "        df_deployment[env] = deployment[env].values\n",
    "\n",
    "    df_deployment = geopandas.GeoDataFrame(df_deployment, geometry=geo_series)\n",
    "\n",
    "    df = pd.concat([df, df_deployment], ignore_index=True)\n",
    "    deployment.close()\n",
    "\n",
    "# print the total acoustic time\n",
    "print('Total amount of time recorded %s h' % (total_acoustic_time.values / np.timedelta64(1, 'h')))"
   ]
  },
  {
   "cell_type": "markdown",
   "metadata": {},
   "source": [
    "## Some data clean up"
   ]
  },
  {
   "cell_type": "code",
   "execution_count": 12,
   "metadata": {
    "jupyter": {
     "outputs_hidden": false
    }
   },
   "outputs": [],
   "source": [
    "# Change the data types to save some computational power and memory\n",
    "# Some operations\n",
    "df = df.replace(['Civil twilight', 'Astronomical twilight', 'Nautical twilight'], ['Twilight', 'Twilight', 'Twilight'])\n",
    "df['bathymetry'] = -1 * df['bathymetry']\n",
    "\n",
    "# Categorical vars to category for efficient storage and processing\n",
    "for env, env_type in vars_dtypes.items():\n",
    "    df[env] = df[env].astype(env_type)"
   ]
  },
  {
   "cell_type": "markdown",
   "metadata": {},
   "source": [
    "## Save the outputs to work on with the next script"
   ]
  },
  {
   "cell_type": "code",
   "execution_count": 13,
   "metadata": {
    "jupyter": {
     "outputs_hidden": false
    }
   },
   "outputs": [],
   "source": [
    "# Filter the deployments to skip if there were any\n",
    "np.save(processed_data_path.joinpath('used_freqticks.npy'), clean_freqticks)\n",
    "df.to_pickle(processed_data_path.joinpath('df_complete.pkl'))"
   ]
  },
  {
   "cell_type": "markdown",
   "metadata": {},
   "source": []
  },
  {
   "cell_type": "code",
   "execution_count": 14,
   "outputs": [
    {
     "data": {
      "text/plain": "           0        1        2        3        4        5        6        7   \n0    83.2500  88.9375  82.9375  81.3125  81.3750  79.3750  73.6875  75.4375  \\\n1    83.2500  88.8750  83.3125  81.4375  81.3750  79.4375  73.8125  75.6875   \n2    82.9375  88.9375  83.5625  81.3125  81.1875  79.5625  73.8125  75.6250   \n3    83.3750  88.8750  83.2500  81.1250  80.9375  79.1875  73.5000  75.1250   \n4    83.3750  89.1250  83.1250  81.5625  81.6875  79.6875  73.5625  75.4375   \n..       ...      ...      ...      ...      ...      ...      ...      ...   \n935  81.0625  80.5625  80.2500  78.1875  77.7500  74.7500  72.9375  71.3125   \n936  81.3125  80.4375  80.0625  78.0000  77.6250  74.6875  72.6875  71.1250   \n937  79.8125  79.4375  80.0000  78.1250  78.4375  74.8750  72.6875  71.3125   \n938  81.5625  83.5625  82.1875  80.0625  82.6250  79.1250  76.2500  77.0000   \n939  82.5000  83.8125  82.2500  79.9375  82.3750  79.1250  76.3125  76.9375   \n\n           8        9  ...  season  moon_phase  day_moment  sediment_type   \n0    74.3125  71.9375  ...      21    6.175781    Twilight           reef  \\\n1    74.5000  72.4375  ...      21    6.175781    Twilight           reef   \n2    74.8125  73.1250  ...      21    6.175781    Twilight           reef   \n3    74.4375  72.1250  ...      21    6.175781    Twilight           reef   \n4    74.8125  72.5625  ...      21    6.175781    Twilight           reef   \n..       ...      ...  ...     ...         ...         ...            ...   \n935  70.1875  73.5625  ...      23    1.766602         Day           sand   \n936  69.8125  69.6250  ...      23    1.766602         Day           sand   \n937  71.5625  73.8125  ...      23    1.766602         Day           sand   \n938  75.0000  74.7500  ...      23    1.766602         Day           sand   \n939  74.3750  71.4375  ...      23    1.766602         Day           sand   \n\n     bathymetry  other_var  new_var  deployment_name            datetime   \n0      2.482422          1        a        NLOyster1 2022-05-29 22:00:09  \\\n1      2.482422          1        a        NLOyster1 2022-05-29 22:00:34   \n2      2.482422          1        a        NLOyster1 2022-05-29 22:00:59   \n3      2.482422          1        a        NLOyster1 2022-05-29 22:01:24   \n4      2.482422          1        a        NLOyster1 2022-05-29 22:01:49   \n..          ...        ...      ...              ...                 ...   \n935    1.554688          2        a          NLSand2 2022-06-08 13:27:50   \n936    1.554688          2        a          NLSand2 2022-06-08 13:28:15   \n937    1.554688          2        a          NLSand2 2022-06-08 13:28:40   \n938    1.554688          2        a          NLSand2 2022-06-08 13:29:05   \n939    1.554688          2        a          NLSand2 2022-06-08 13:29:30   \n\n                     geometry  \n0    POINT (4.88076 53.06843)  \n1    POINT (4.88076 53.06843)  \n2    POINT (4.88076 53.06843)  \n3    POINT (4.88076 53.06843)  \n4    POINT (4.88076 53.06843)  \n..                        ...  \n935  POINT (5.20231 53.06843)  \n936  POINT (5.20231 53.06843)  \n937  POINT (5.20231 53.06843)  \n938  POINT (5.20231 53.06843)  \n939  POINT (5.20231 53.06843)  \n\n[940 rows x 34 columns]",
      "text/html": "<div>\n<style scoped>\n    .dataframe tbody tr th:only-of-type {\n        vertical-align: middle;\n    }\n\n    .dataframe tbody tr th {\n        vertical-align: top;\n    }\n\n    .dataframe thead th {\n        text-align: right;\n    }\n</style>\n<table border=\"1\" class=\"dataframe\">\n  <thead>\n    <tr style=\"text-align: right;\">\n      <th></th>\n      <th>0</th>\n      <th>1</th>\n      <th>2</th>\n      <th>3</th>\n      <th>4</th>\n      <th>5</th>\n      <th>6</th>\n      <th>7</th>\n      <th>8</th>\n      <th>9</th>\n      <th>...</th>\n      <th>season</th>\n      <th>moon_phase</th>\n      <th>day_moment</th>\n      <th>sediment_type</th>\n      <th>bathymetry</th>\n      <th>other_var</th>\n      <th>new_var</th>\n      <th>deployment_name</th>\n      <th>datetime</th>\n      <th>geometry</th>\n    </tr>\n  </thead>\n  <tbody>\n    <tr>\n      <th>0</th>\n      <td>83.2500</td>\n      <td>88.9375</td>\n      <td>82.9375</td>\n      <td>81.3125</td>\n      <td>81.3750</td>\n      <td>79.3750</td>\n      <td>73.6875</td>\n      <td>75.4375</td>\n      <td>74.3125</td>\n      <td>71.9375</td>\n      <td>...</td>\n      <td>21</td>\n      <td>6.175781</td>\n      <td>Twilight</td>\n      <td>reef</td>\n      <td>2.482422</td>\n      <td>1</td>\n      <td>a</td>\n      <td>NLOyster1</td>\n      <td>2022-05-29 22:00:09</td>\n      <td>POINT (4.88076 53.06843)</td>\n    </tr>\n    <tr>\n      <th>1</th>\n      <td>83.2500</td>\n      <td>88.8750</td>\n      <td>83.3125</td>\n      <td>81.4375</td>\n      <td>81.3750</td>\n      <td>79.4375</td>\n      <td>73.8125</td>\n      <td>75.6875</td>\n      <td>74.5000</td>\n      <td>72.4375</td>\n      <td>...</td>\n      <td>21</td>\n      <td>6.175781</td>\n      <td>Twilight</td>\n      <td>reef</td>\n      <td>2.482422</td>\n      <td>1</td>\n      <td>a</td>\n      <td>NLOyster1</td>\n      <td>2022-05-29 22:00:34</td>\n      <td>POINT (4.88076 53.06843)</td>\n    </tr>\n    <tr>\n      <th>2</th>\n      <td>82.9375</td>\n      <td>88.9375</td>\n      <td>83.5625</td>\n      <td>81.3125</td>\n      <td>81.1875</td>\n      <td>79.5625</td>\n      <td>73.8125</td>\n      <td>75.6250</td>\n      <td>74.8125</td>\n      <td>73.1250</td>\n      <td>...</td>\n      <td>21</td>\n      <td>6.175781</td>\n      <td>Twilight</td>\n      <td>reef</td>\n      <td>2.482422</td>\n      <td>1</td>\n      <td>a</td>\n      <td>NLOyster1</td>\n      <td>2022-05-29 22:00:59</td>\n      <td>POINT (4.88076 53.06843)</td>\n    </tr>\n    <tr>\n      <th>3</th>\n      <td>83.3750</td>\n      <td>88.8750</td>\n      <td>83.2500</td>\n      <td>81.1250</td>\n      <td>80.9375</td>\n      <td>79.1875</td>\n      <td>73.5000</td>\n      <td>75.1250</td>\n      <td>74.4375</td>\n      <td>72.1250</td>\n      <td>...</td>\n      <td>21</td>\n      <td>6.175781</td>\n      <td>Twilight</td>\n      <td>reef</td>\n      <td>2.482422</td>\n      <td>1</td>\n      <td>a</td>\n      <td>NLOyster1</td>\n      <td>2022-05-29 22:01:24</td>\n      <td>POINT (4.88076 53.06843)</td>\n    </tr>\n    <tr>\n      <th>4</th>\n      <td>83.3750</td>\n      <td>89.1250</td>\n      <td>83.1250</td>\n      <td>81.5625</td>\n      <td>81.6875</td>\n      <td>79.6875</td>\n      <td>73.5625</td>\n      <td>75.4375</td>\n      <td>74.8125</td>\n      <td>72.5625</td>\n      <td>...</td>\n      <td>21</td>\n      <td>6.175781</td>\n      <td>Twilight</td>\n      <td>reef</td>\n      <td>2.482422</td>\n      <td>1</td>\n      <td>a</td>\n      <td>NLOyster1</td>\n      <td>2022-05-29 22:01:49</td>\n      <td>POINT (4.88076 53.06843)</td>\n    </tr>\n    <tr>\n      <th>...</th>\n      <td>...</td>\n      <td>...</td>\n      <td>...</td>\n      <td>...</td>\n      <td>...</td>\n      <td>...</td>\n      <td>...</td>\n      <td>...</td>\n      <td>...</td>\n      <td>...</td>\n      <td>...</td>\n      <td>...</td>\n      <td>...</td>\n      <td>...</td>\n      <td>...</td>\n      <td>...</td>\n      <td>...</td>\n      <td>...</td>\n      <td>...</td>\n      <td>...</td>\n      <td>...</td>\n    </tr>\n    <tr>\n      <th>935</th>\n      <td>81.0625</td>\n      <td>80.5625</td>\n      <td>80.2500</td>\n      <td>78.1875</td>\n      <td>77.7500</td>\n      <td>74.7500</td>\n      <td>72.9375</td>\n      <td>71.3125</td>\n      <td>70.1875</td>\n      <td>73.5625</td>\n      <td>...</td>\n      <td>23</td>\n      <td>1.766602</td>\n      <td>Day</td>\n      <td>sand</td>\n      <td>1.554688</td>\n      <td>2</td>\n      <td>a</td>\n      <td>NLSand2</td>\n      <td>2022-06-08 13:27:50</td>\n      <td>POINT (5.20231 53.06843)</td>\n    </tr>\n    <tr>\n      <th>936</th>\n      <td>81.3125</td>\n      <td>80.4375</td>\n      <td>80.0625</td>\n      <td>78.0000</td>\n      <td>77.6250</td>\n      <td>74.6875</td>\n      <td>72.6875</td>\n      <td>71.1250</td>\n      <td>69.8125</td>\n      <td>69.6250</td>\n      <td>...</td>\n      <td>23</td>\n      <td>1.766602</td>\n      <td>Day</td>\n      <td>sand</td>\n      <td>1.554688</td>\n      <td>2</td>\n      <td>a</td>\n      <td>NLSand2</td>\n      <td>2022-06-08 13:28:15</td>\n      <td>POINT (5.20231 53.06843)</td>\n    </tr>\n    <tr>\n      <th>937</th>\n      <td>79.8125</td>\n      <td>79.4375</td>\n      <td>80.0000</td>\n      <td>78.1250</td>\n      <td>78.4375</td>\n      <td>74.8750</td>\n      <td>72.6875</td>\n      <td>71.3125</td>\n      <td>71.5625</td>\n      <td>73.8125</td>\n      <td>...</td>\n      <td>23</td>\n      <td>1.766602</td>\n      <td>Day</td>\n      <td>sand</td>\n      <td>1.554688</td>\n      <td>2</td>\n      <td>a</td>\n      <td>NLSand2</td>\n      <td>2022-06-08 13:28:40</td>\n      <td>POINT (5.20231 53.06843)</td>\n    </tr>\n    <tr>\n      <th>938</th>\n      <td>81.5625</td>\n      <td>83.5625</td>\n      <td>82.1875</td>\n      <td>80.0625</td>\n      <td>82.6250</td>\n      <td>79.1250</td>\n      <td>76.2500</td>\n      <td>77.0000</td>\n      <td>75.0000</td>\n      <td>74.7500</td>\n      <td>...</td>\n      <td>23</td>\n      <td>1.766602</td>\n      <td>Day</td>\n      <td>sand</td>\n      <td>1.554688</td>\n      <td>2</td>\n      <td>a</td>\n      <td>NLSand2</td>\n      <td>2022-06-08 13:29:05</td>\n      <td>POINT (5.20231 53.06843)</td>\n    </tr>\n    <tr>\n      <th>939</th>\n      <td>82.5000</td>\n      <td>83.8125</td>\n      <td>82.2500</td>\n      <td>79.9375</td>\n      <td>82.3750</td>\n      <td>79.1250</td>\n      <td>76.3125</td>\n      <td>76.9375</td>\n      <td>74.3750</td>\n      <td>71.4375</td>\n      <td>...</td>\n      <td>23</td>\n      <td>1.766602</td>\n      <td>Day</td>\n      <td>sand</td>\n      <td>1.554688</td>\n      <td>2</td>\n      <td>a</td>\n      <td>NLSand2</td>\n      <td>2022-06-08 13:29:30</td>\n      <td>POINT (5.20231 53.06843)</td>\n    </tr>\n  </tbody>\n</table>\n<p>940 rows × 34 columns</p>\n</div>"
     },
     "execution_count": 14,
     "metadata": {},
     "output_type": "execute_result"
    }
   ],
   "source": [
    "df"
   ],
   "metadata": {
    "collapsed": false
   }
  },
  {
   "cell_type": "code",
   "execution_count": null,
   "outputs": [],
   "source": [],
   "metadata": {
    "collapsed": false
   }
  }
 ],
 "metadata": {
  "kernelspec": {
   "display_name": "Python 3 (ipykernel)",
   "language": "python",
   "name": "python3"
  },
  "language_info": {
   "codemirror_mode": {
    "name": "ipython",
    "version": 3
   },
   "file_extension": ".py",
   "mimetype": "text/x-python",
   "name": "python",
   "nbconvert_exporter": "python",
   "pygments_lexer": "ipython3",
   "version": "3.9.13"
  }
 },
 "nbformat": 4,
 "nbformat_minor": 4
}
