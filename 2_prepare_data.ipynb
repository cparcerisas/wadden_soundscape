{
 "cells": [
  {
   "cell_type": "markdown",
   "metadata": {},
   "source": [
    "# Process the raw data from pyapm and bpnsdata\n",
    "This notebook is the code to process the output given after processing the data with pypam and bpnsdata\n",
    "For more information about this process please contact clea.parcerisas@vliz.be or check the documentation of both packages\n",
    "https://lifewatch-pypam.readthedocs.io/en/latest/\n",
    "https://github.com/lifewatch/bpnsdata"
   ]
  },
  {
   "cell_type": "code",
   "execution_count": 1,
   "metadata": {
    "jupyter": {
     "outputs_hidden": false
    }
   },
   "outputs": [
    {
     "name": "stdout",
     "output_type": "stream",
     "text": [
      "Requirement already satisfied: tqdm in c:\\users\\cleap\\envs\\wadden_soundscape\\lib\\site-packages (4.65.0)\n",
      "Requirement already satisfied: colorama in c:\\users\\cleap\\envs\\wadden_soundscape\\lib\\site-packages (from tqdm) (0.4.6)\n",
      "Requirement already satisfied: geopandas in c:\\users\\cleap\\envs\\wadden_soundscape\\lib\\site-packages (0.13.2)\n",
      "Requirement already satisfied: fiona>=1.8.19 in c:\\users\\cleap\\envs\\wadden_soundscape\\lib\\site-packages (from geopandas) (1.9.4.post1)\n",
      "Requirement already satisfied: packaging in c:\\users\\cleap\\envs\\wadden_soundscape\\lib\\site-packages (from geopandas) (23.1)\n",
      "Requirement already satisfied: pandas>=1.1.0 in c:\\users\\cleap\\envs\\wadden_soundscape\\lib\\site-packages (from geopandas) (2.0.2)\n",
      "Requirement already satisfied: pyproj>=3.0.1 in c:\\users\\cleap\\envs\\wadden_soundscape\\lib\\site-packages (from geopandas) (3.6.0)\n",
      "Requirement already satisfied: shapely>=1.7.1 in c:\\users\\cleap\\envs\\wadden_soundscape\\lib\\site-packages (from geopandas) (2.0.1)\n",
      "Requirement already satisfied: attrs>=19.2.0 in c:\\users\\cleap\\envs\\wadden_soundscape\\lib\\site-packages (from fiona>=1.8.19->geopandas) (23.1.0)\n",
      "Requirement already satisfied: certifi in c:\\users\\cleap\\envs\\wadden_soundscape\\lib\\site-packages (from fiona>=1.8.19->geopandas) (2023.5.7)\n",
      "Requirement already satisfied: click~=8.0 in c:\\users\\cleap\\envs\\wadden_soundscape\\lib\\site-packages (from fiona>=1.8.19->geopandas) (8.1.3)\n",
      "Requirement already satisfied: click-plugins>=1.0 in c:\\users\\cleap\\envs\\wadden_soundscape\\lib\\site-packages (from fiona>=1.8.19->geopandas) (1.1.1)\n",
      "Requirement already satisfied: cligj>=0.5 in c:\\users\\cleap\\envs\\wadden_soundscape\\lib\\site-packages (from fiona>=1.8.19->geopandas) (0.7.2)\n",
      "Requirement already satisfied: six in c:\\users\\cleap\\envs\\wadden_soundscape\\lib\\site-packages (from fiona>=1.8.19->geopandas) (1.16.0)\n",
      "Requirement already satisfied: importlib-metadata in c:\\users\\cleap\\envs\\wadden_soundscape\\lib\\site-packages (from fiona>=1.8.19->geopandas) (6.7.0)\n",
      "Requirement already satisfied: python-dateutil>=2.8.2 in c:\\users\\cleap\\envs\\wadden_soundscape\\lib\\site-packages (from pandas>=1.1.0->geopandas) (2.8.2)\n",
      "Requirement already satisfied: pytz>=2020.1 in c:\\users\\cleap\\envs\\wadden_soundscape\\lib\\site-packages (from pandas>=1.1.0->geopandas) (2023.3)\n",
      "Requirement already satisfied: tzdata>=2022.1 in c:\\users\\cleap\\envs\\wadden_soundscape\\lib\\site-packages (from pandas>=1.1.0->geopandas) (2023.3)\n",
      "Requirement already satisfied: numpy>=1.20.3 in c:\\users\\cleap\\envs\\wadden_soundscape\\lib\\site-packages (from pandas>=1.1.0->geopandas) (1.24.3)\n",
      "Requirement already satisfied: colorama in c:\\users\\cleap\\envs\\wadden_soundscape\\lib\\site-packages (from click~=8.0->fiona>=1.8.19->geopandas) (0.4.6)\n",
      "Requirement already satisfied: zipp>=0.5 in c:\\users\\cleap\\envs\\wadden_soundscape\\lib\\site-packages (from importlib-metadata->fiona>=1.8.19->geopandas) (3.15.0)\n",
      "Requirement already satisfied: netCDF4 in c:\\users\\cleap\\envs\\wadden_soundscape\\lib\\site-packages (1.6.4)\n",
      "Requirement already satisfied: cftime in c:\\users\\cleap\\envs\\wadden_soundscape\\lib\\site-packages (from netCDF4) (1.6.2)\n",
      "Requirement already satisfied: certifi in c:\\users\\cleap\\envs\\wadden_soundscape\\lib\\site-packages (from netCDF4) (2023.5.7)\n",
      "Requirement already satisfied: numpy in c:\\users\\cleap\\envs\\wadden_soundscape\\lib\\site-packages (from netCDF4) (1.24.3)\n",
      "Requirement already satisfied: scipy in c:\\users\\cleap\\envs\\wadden_soundscape\\lib\\site-packages (1.10.1)\n",
      "Requirement already satisfied: numpy<1.27.0,>=1.19.5 in c:\\users\\cleap\\envs\\wadden_soundscape\\lib\\site-packages (from scipy) (1.24.3)\n",
      "Requirement already satisfied: xarray in c:\\users\\cleap\\envs\\wadden_soundscape\\lib\\site-packages (2023.5.0)\n",
      "Requirement already satisfied: numpy>=1.21 in c:\\users\\cleap\\envs\\wadden_soundscape\\lib\\site-packages (from xarray) (1.24.3)\n",
      "Requirement already satisfied: pandas>=1.4 in c:\\users\\cleap\\envs\\wadden_soundscape\\lib\\site-packages (from xarray) (2.0.2)\n",
      "Requirement already satisfied: packaging>=21.3 in c:\\users\\cleap\\envs\\wadden_soundscape\\lib\\site-packages (from xarray) (23.1)\n",
      "Requirement already satisfied: python-dateutil>=2.8.2 in c:\\users\\cleap\\envs\\wadden_soundscape\\lib\\site-packages (from pandas>=1.4->xarray) (2.8.2)\n",
      "Requirement already satisfied: pytz>=2020.1 in c:\\users\\cleap\\envs\\wadden_soundscape\\lib\\site-packages (from pandas>=1.4->xarray) (2023.3)\n",
      "Requirement already satisfied: tzdata>=2022.1 in c:\\users\\cleap\\envs\\wadden_soundscape\\lib\\site-packages (from pandas>=1.4->xarray) (2023.3)\n",
      "Requirement already satisfied: six>=1.5 in c:\\users\\cleap\\envs\\wadden_soundscape\\lib\\site-packages (from python-dateutil>=2.8.2->pandas>=1.4->xarray) (1.16.0)\n"
     ]
    }
   ],
   "source": [
    "# Install the required packages. Geopandas can give problems in Windows machines, so better to install them using wheels when using Windows\n",
    "import sys\n",
    "!{sys.executable} -m pip install tqdm\n",
    "!{sys.executable} -m pip install geopandas\n",
    "!{sys.executable} -m pip install netCDF4\n",
    "!{sys.executable} -m pip install scipy\n",
    "!{sys.executable} -m pip install xarray"
   ]
  },
  {
   "cell_type": "code",
   "execution_count": 1,
   "metadata": {
    "jupyter": {
     "outputs_hidden": false
    }
   },
   "outputs": [
    {
     "name": "stderr",
     "output_type": "stream",
     "text": [
      "C:\\Users\\cleap\\Envs\\wadden_soundscape\\lib\\site-packages\\geopandas\\_compat.py:124: UserWarning: The Shapely GEOS version (3.10.2-CAPI-1.16.0) is incompatible with the GEOS version PyGEOS was compiled with (3.10.4-CAPI-1.16.2). Conversions between both will be slow.\n",
      "  warnings.warn(\n"
     ]
    }
   ],
   "source": [
    "import datetime\n",
    "import pathlib\n",
    "\n",
    "import geopandas\n",
    "import numpy as np\n",
    "import pandas as pd\n",
    "import xarray\n",
    "from tqdm import tqdm"
   ]
  },
  {
   "cell_type": "code",
   "execution_count": 2,
   "metadata": {
    "jupyter": {
     "outputs_hidden": false
    }
   },
   "outputs": [],
   "source": [
    "ENV_LABELS = [\n",
    "    'route_density',\n",
    "    'season',\n",
    "    'moon_phase',\n",
    "    'day_moment',\n",
    "    'sediment_type',\n",
    "    'bathymetry',\n",
    "]\n",
    "\n",
    "# List all the labels which you have on your Raven file which are TO BE REMOVED (artifacts)\n",
    "ARTIFACTS_LABELS = ['clipping', 'rope_noise']\n",
    "\n",
    "CHUNK_LENGTH = 60.0 # This has to be the SAME one you chose in 0_create_dataset (binsize)\n",
    "\n",
    "# Set the min and max frequencies to use (has to be a range smaller or equal to the one you selected in 0_create_dataset)\n",
    "MAX_FREQ = 24000\n",
    "MIN_FREQ = 60"
   ]
  },
  {
   "cell_type": "code",
   "execution_count": 11,
   "metadata": {
    "jupyter": {
     "outputs_hidden": false
    }
   },
   "outputs": [],
   "source": [
    "# Write down which of the variables are CATEGORIES and not NUMERICAL\n",
    "CATEGORICAL_VARS = ['day_moment', 'sediment_type', 'seabed_habitat', 'label']\n",
    "CYCLIC_VARS = ['season', 'moon_phase']\n",
    "\n",
    "vars_dtypes = {\n",
    "    'route_density': int,\n",
    "    'season': int,\n",
    "    'moon_phase': np.float16,\n",
    "    'day_moment': 'category',\n",
    "    'sediment_type': 'category',\n",
    "    'bathymetry': np.float16,\n",
    "}\n"
   ]
  },
  {
   "cell_type": "code",
   "execution_count": 4,
   "metadata": {
    "jupyter": {
     "outputs_hidden": false
    }
   },
   "outputs": [],
   "source": [
    "# Define the folders\n",
    "data_path = pathlib.Path('./data/raw_data/')\n",
    "processed_data_path = pathlib.Path('./data/processed/')\n",
    "raw_data_path = pathlib.Path('./data/raw_data/deployments/')"
   ]
  },
  {
   "cell_type": "code",
   "execution_count": 5,
   "metadata": {
    "jupyter": {
     "outputs_hidden": false
    }
   },
   "outputs": [],
   "source": [
    "# Read the metadata csv\n",
    "metadata = pd.read_csv(data_path.joinpath('data_summary_mda.csv'))\n",
    "\n",
    "# Read the labelled data\n",
    "# Change the path depending on where your data is\n",
    "# Change the names of the columns start_datetime, end_datetime and start_file to match the ones in the file\n",
    "# Change the label column to the correct one!\n",
    "label_column = 'tag'\n",
    "labels_data = pd.read_csv(data_path.joinpath('labels.csv'), parse_dates=['start_datetime',\n",
    "                                                                         'end_datetime',\n",
    "                                                                         'start_file'])\n",
    "\n",
    "# Create the empty output vars\n",
    "df_features = pd.DataFrame()\n",
    "df_sample = pd.DataFrame()\n",
    "df_env = pd.DataFrame()\n",
    "df_geo = geopandas.GeoDataFrame()\n",
    "df_labels = pd.DataFrame()\n",
    "\n",
    "# Define the names of the vars that will be used\n",
    "features_var = 'oct3'\n",
    "freqticks = None"
   ]
  },
  {
   "cell_type": "code",
   "execution_count": 8,
   "metadata": {
    "jupyter": {
     "outputs_hidden": false
    }
   },
   "outputs": [
    {
     "name": "stderr",
     "output_type": "stream",
     "text": [
      " 50%|█████     | 2/4 [00:00<00:00,  9.34it/s]"
     ]
    },
    {
     "name": "stdout",
     "output_type": "stream",
     "text": [
      "<xarray.Dataset>\n",
      "Dimensions:                 (id: 237, frequency: 31, band: 1, index: 237,\n",
      "                             dim_0: 237)\n",
      "Coordinates: (12/17)\n",
      "    file_path               (id) object ...\n",
      "  * id                      (id) int32 0 1 2 3 4 5 6 ... 231 232 233 234 235 236\n",
      "    start_sample            (id) float64 ...\n",
      "    end_sample              (id) float64 ...\n",
      "    datetime                (id) datetime64[ns] ...\n",
      "    hydrophone_sensitivity  (id) float64 ...\n",
      "    ...                      ...\n",
      "    low_freq                (band) int32 ...\n",
      "    high_freq               (band) float64 ...\n",
      "  * index                   (index) int64 0 1 2 3 4 5 ... 232 233 234 235 236\n",
      "  * dim_0                   (dim_0) int64 0 1 2 3 4 5 ... 232 233 234 235 236\n",
      "    lat                     (dim_0) float64 ...\n",
      "    lon                     (dim_0) float64 ...\n",
      "Data variables: (12/14)\n",
      "    oct3                    (id, frequency) float64 ...\n",
      "    rms                     (id, band) float64 ...\n",
      "    sel                     (id, band) float64 ...\n",
      "    aci                     (id, band) float64 ...\n",
      "    latitude                (index) float64 ...\n",
      "    longitude               (index) float64 ...\n",
      "    ...                      ...\n",
      "    day_moment              (index) object ...\n",
      "    bathymetry              (index) float32 ...\n",
      "    sediment_type           (index) object ...\n",
      "    other_var               (index) int64 ...\n",
      "    new_var                 (index) object ...\n",
      "    season                  (id) int64 ...\n",
      "<xarray.Dataset>\n",
      "Dimensions:                 (id: 235, frequency: 31, band: 1, index: 235,\n",
      "                             dim_0: 235)\n",
      "Coordinates: (12/17)\n",
      "    file_path               (id) object ...\n",
      "  * id                      (id) int32 0 1 2 3 4 5 6 ... 229 230 231 232 233 234\n",
      "    start_sample            (id) float64 ...\n",
      "    end_sample              (id) float64 ...\n",
      "    datetime                (id) datetime64[ns] ...\n",
      "    hydrophone_sensitivity  (id) float64 ...\n",
      "    ...                      ...\n",
      "    low_freq                (band) int32 ...\n",
      "    high_freq               (band) float64 ...\n",
      "  * index                   (index) int64 0 1 2 3 4 5 ... 230 231 232 233 234\n",
      "  * dim_0                   (dim_0) int64 0 1 2 3 4 5 ... 230 231 232 233 234\n",
      "    lat                     (dim_0) float64 ...\n",
      "    lon                     (dim_0) float64 ...\n",
      "Data variables: (12/14)\n",
      "    oct3                    (id, frequency) float64 ...\n",
      "    rms                     (id, band) float64 ...\n",
      "    sel                     (id, band) float64 ...\n",
      "    aci                     (id, band) float64 ...\n",
      "    latitude                (index) float64 ...\n",
      "    longitude               (index) float64 ...\n",
      "    ...                      ...\n",
      "    day_moment              (index) object ...\n",
      "    bathymetry              (index) float32 ...\n",
      "    sediment_type           (index) object ...\n",
      "    other_var               (index) int64 ...\n",
      "    new_var                 (index) object ...\n",
      "    season                  (id) int64 ...\n"
     ]
    },
    {
     "name": "stderr",
     "output_type": "stream",
     "text": [
      " 75%|███████▌  | 3/4 [00:00<00:00,  8.35it/s]"
     ]
    },
    {
     "name": "stdout",
     "output_type": "stream",
     "text": [
      "<xarray.Dataset>\n",
      "Dimensions:                 (id: 235, frequency: 31, band: 1, index: 235,\n",
      "                             dim_0: 235)\n",
      "Coordinates: (12/17)\n",
      "    file_path               (id) object ...\n",
      "  * id                      (id) int32 0 1 2 3 4 5 6 ... 229 230 231 232 233 234\n",
      "    start_sample            (id) float64 ...\n",
      "    end_sample              (id) float64 ...\n",
      "    datetime                (id) datetime64[ns] ...\n",
      "    hydrophone_sensitivity  (id) float64 ...\n",
      "    ...                      ...\n",
      "    low_freq                (band) int32 ...\n",
      "    high_freq               (band) float64 ...\n",
      "  * index                   (index) int64 0 1 2 3 4 5 ... 230 231 232 233 234\n",
      "  * dim_0                   (dim_0) int64 0 1 2 3 4 5 ... 230 231 232 233 234\n",
      "    lat                     (dim_0) float64 ...\n",
      "    lon                     (dim_0) float64 ...\n",
      "Data variables: (12/14)\n",
      "    oct3                    (id, frequency) float64 ...\n",
      "    rms                     (id, band) float64 ...\n",
      "    sel                     (id, band) float64 ...\n",
      "    aci                     (id, band) float64 ...\n",
      "    latitude                (index) float64 ...\n",
      "    longitude               (index) float64 ...\n",
      "    ...                      ...\n",
      "    day_moment              (index) object ...\n",
      "    bathymetry              (index) float32 ...\n",
      "    sediment_type           (index) object ...\n",
      "    other_var               (index) int64 ...\n",
      "    new_var                 (index) object ...\n",
      "    season                  (id) int64 ...\n",
      "<xarray.Dataset>\n",
      "Dimensions:                 (id: 233, frequency: 31, band: 1, index: 233,\n",
      "                             dim_0: 233)\n",
      "Coordinates: (12/17)\n",
      "    file_path               (id) object ...\n",
      "  * id                      (id) int32 0 1 2 3 4 5 6 ... 227 228 229 230 231 232\n",
      "    start_sample            (id) float64 ...\n",
      "    end_sample              (id) float64 ...\n",
      "    datetime                (id) datetime64[ns] ...\n",
      "    hydrophone_sensitivity  (id) float64 ...\n",
      "    ...                      ...\n",
      "    low_freq                (band) int32 ...\n",
      "    high_freq               (band) float64 ...\n",
      "  * index                   (index) int64 0 1 2 3 4 5 ... 228 229 230 231 232\n",
      "  * dim_0                   (dim_0) int64 0 1 2 3 4 5 ... 228 229 230 231 232\n",
      "    lat                     (dim_0) float64 ...\n",
      "    lon                     (dim_0) float64 ...\n",
      "Data variables: (12/14)\n",
      "    oct3                    (id, frequency) float64 ...\n",
      "    rms                     (id, band) float64 ...\n",
      "    sel                     (id, band) float64 ...\n",
      "    aci                     (id, band) float64 ...\n",
      "    latitude                (index) float64 ...\n",
      "    longitude               (index) float64 ...\n",
      "    ...                      ...\n",
      "    day_moment              (index) object ...\n",
      "    bathymetry              (index) float32 ...\n",
      "    sediment_type           (index) object ...\n",
      "    other_var               (index) int64 ...\n",
      "    new_var                 (index) object ...\n",
      "    season                  (id) int64 ...\n"
     ]
    },
    {
     "name": "stderr",
     "output_type": "stream",
     "text": [
      "100%|██████████| 4/4 [00:00<00:00,  8.42it/s]"
     ]
    },
    {
     "name": "stdout",
     "output_type": "stream",
     "text": [
      "Total amount of time recorded 896.3058333333333 h\n"
     ]
    },
    {
     "name": "stderr",
     "output_type": "stream",
     "text": [
      "\n"
     ]
    }
   ],
   "source": [
    "# Join all the deployments in one DataFrame\n",
    "df = pd.DataFrame()\n",
    "total_acoustic_time = 0\n",
    "for idx in tqdm(metadata.index, total=len(metadata)):\n",
    "    deployment_row = metadata.loc[idx]\n",
    "    env_name = '%s_%s_env.nc' % (idx, deployment_row.deployment_name)\n",
    "    env_path = processed_data_path.joinpath(env_name)\n",
    "    deployment_file_name = '%s_%s.nc' % (idx, deployment_row.deployment_name)\n",
    "    name = deployment_row['deployment_name']\n",
    "    deployment = xarray.open_dataset(env_path)\n",
    "    print(deployment)\n",
    "\n",
    "    # Get the geometry\n",
    "    geo_series = geopandas.GeoSeries(data=geopandas.points_from_xy(x=deployment['longitude'],\n",
    "                                                                   y=deployment['latitude']),\n",
    "                                     crs='EPSG:4326')\n",
    "\n",
    "    # Eliminate the frequencies below MIN_FREQ and above MAX_FREQ\n",
    "    deployment = deployment.sel(frequency=deployment.frequency[deployment.frequency < MAX_FREQ])\n",
    "    deployment = deployment.sel(frequency=deployment.frequency[deployment.frequency > MIN_FREQ])\n",
    "    deployment_duration = deployment.datetime.max() - deployment.datetime.min()\n",
    "    total_acoustic_time += deployment_duration\n",
    "    deployment = deployment[ENV_LABELS + [features_var]].dropna('id', 'any')\n",
    "    clean_freqticks = deployment.frequency.values\n",
    "\n",
    "    # Create a pandas df with all the wanted values\n",
    "    values_arr = deployment[features_var].values\n",
    "    df_deployment = pd.DataFrame(values_arr)\n",
    "    df_deployment = df_deployment.astype(np.float16)\n",
    "    for env in ENV_LABELS:\n",
    "        df_deployment[env] = deployment[env].values\n",
    "\n",
    "    df_deployment = geopandas.GeoDataFrame(df_deployment, geometry=geo_series)\n",
    "\n",
    "    # Add the corresponding label by reading the csv with labels\n",
    "    df_deployment['datetime'] = deployment.datetime\n",
    "    df_deployment['filename'] = deployment.file_path.values\n",
    "    df_deployment['label'] = 'unknown'\n",
    "\n",
    "    for _, label_row in labels_data.iterrows():\n",
    "        if deployment_file_name == label_row.filepath:\n",
    "            mask_label = (df_deployment.datetime < (label_row.end_datetime -\n",
    "                                                    datetime.timedelta(seconds=CHUNK_LENGTH))) & \\\n",
    "                         (df_deployment.datetime > label_row.start_datetime)\n",
    "            if len(mask_label) > 0:\n",
    "                df_deployment.loc[mask_label, 'label'] = label_row[label_column]\n",
    "\n",
    "    df = pd.concat([df, df_deployment], ignore_index=True)\n",
    "\n",
    "# print the total acoustic time\n",
    "print('Total amount of time recorded %s h' % (total_acoustic_time.values / np.timedelta64(1, 'h')))"
   ]
  },
  {
   "cell_type": "markdown",
   "metadata": {},
   "source": [
    "## Some data clean up"
   ]
  },
  {
   "cell_type": "code",
   "execution_count": 12,
   "metadata": {
    "jupyter": {
     "outputs_hidden": false
    }
   },
   "outputs": [],
   "source": [
    "# Change the data types to save some computational power and memory\n",
    "# Some operations\n",
    "df = df.replace(['Civil twilight', 'Astronomical twilight', 'Nautical twilight'], ['Twilight', 'Twilight', 'Twilight'])\n",
    "df['bathymetry'] = -1 * df['bathymetry']\n",
    "\n",
    "# Categorical vars to category for efficient storage and processing\n",
    "for env, env_type in vars_dtypes.items():\n",
    "    df[env] = df[env].astype(env_type)"
   ]
  },
  {
   "cell_type": "markdown",
   "metadata": {},
   "source": [
    "## Save the outputs to work on with the next script"
   ]
  },
  {
   "cell_type": "code",
   "execution_count": 14,
   "metadata": {
    "jupyter": {
     "outputs_hidden": false
    }
   },
   "outputs": [],
   "source": [
    "# Filter the deployments to skip if there were any\n",
    "np.save(processed_data_path.joinpath('used_freqticks.npy'), clean_freqticks)\n",
    "df.to_pickle(processed_data_path.joinpath('df_complete.pkl'))"
   ]
  },
  {
   "cell_type": "markdown",
   "metadata": {},
   "source": []
  }
 ],
 "metadata": {
  "kernelspec": {
   "display_name": "Python 3 (ipykernel)",
   "language": "python",
   "name": "python3"
  },
  "language_info": {
   "codemirror_mode": {
    "name": "ipython",
    "version": 3
   },
   "file_extension": ".py",
   "mimetype": "text/x-python",
   "name": "python",
   "nbconvert_exporter": "python",
   "pygments_lexer": "ipython3",
   "version": "3.9.13"
  }
 },
 "nbformat": 4,
 "nbformat_minor": 4
}
