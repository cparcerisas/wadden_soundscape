{
 "cells": [
  {
   "cell_type": "code",
   "execution_count": 3,
   "outputs": [],
   "source": [
    "import pyhydrophone as pyhy\n",
    "import pypam\n",
    "import pathlib\n",
    "\n",
    "import xarray\n",
    "\n",
    "# Decide the analysis settings\n",
    "band = [100, 20000]\n",
    "binsize = 10  # Choose your chunk in seconds!\n",
    "bin_overlap = 0  # percentage of the chunk overlap\n",
    "nfft = 512  # fft to use (only millidecade)\n",
    "fft_overlap = 0.5  # fft overlap (only millidecade)\n",
    "\n",
    "\n",
    "# Path to your output folder (where do you want to store the .nc files)\n",
    "output_folder = pathlib.Path('./data/raw_data/deployments')\n",
    "\n",
    "# Put the csv file with all the summary of your deployments as seen in pypam documentation\n",
    "summary_path = pathlib.Path('./data/raw_data/data_summary_mda.csv')\n",
    "\n",
    "# Create all the instruments\n",
    "st = pyhy.SoundTrap(serial_number=6046, name='SoundTrap', model='SoundTrap 300 STD')\n",
    "uaural = pyhy.uAural(sensitivity=-180, name='uAural', model='RX', serial_number=1, preamp_gain=12, Vpp=2.0)\n",
    "\n",
    "# etc\n",
    "INSTRUMENTS = {'soundtrap1': st, 'uaural': uaural}\n",
    "\n",
    "frequency_features = ['third_octaves_levels', 'hybrid_millidecade_bands']"
   ],
   "metadata": {
    "collapsed": false
   }
  },
  {
   "cell_type": "markdown",
   "source": [],
   "metadata": {
    "collapsed": false
   }
  },
  {
   "cell_type": "code",
   "execution_count": 5,
   "outputs": [
    {
     "name": "stdout",
     "output_type": "stream",
     "text": [
      "Reading dataset...\n"
     ]
    },
    {
     "name": "stderr",
     "output_type": "stream",
     "text": [
      "100%|██████████| 4/4 [00:00<00:00,  6.42it/s]\n"
     ]
    }
   ],
   "source": [
    "ds = pypam.dataset.DataSet(summary_path, output_folder, instruments=INSTRUMENTS, temporal_features=None, frequency_features=frequency_features,\n",
    "                          bands_list=[band], binsize=binsize, bin_overlap=bin_overlap, nfft=nfft, fft_overlap=fft_overlap, dc_subtract=False)\n",
    "\n",
    "ds()"
   ],
   "metadata": {
    "collapsed": false
   }
  },
  {
   "cell_type": "code",
   "execution_count": null,
   "outputs": [],
   "source": [],
   "metadata": {
    "collapsed": false
   }
  }
 ],
 "metadata": {
  "kernelspec": {
   "display_name": "Python 3",
   "language": "python",
   "name": "python3"
  },
  "language_info": {
   "codemirror_mode": {
    "name": "ipython",
    "version": 2
   },
   "file_extension": ".py",
   "mimetype": "text/x-python",
   "name": "python",
   "nbconvert_exporter": "python",
   "pygments_lexer": "ipython2",
   "version": "2.7.6"
  }
 },
 "nbformat": 4,
 "nbformat_minor": 0
}
